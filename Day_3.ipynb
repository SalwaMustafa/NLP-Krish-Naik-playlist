{
  "nbformat": 4,
  "nbformat_minor": 0,
  "metadata": {
    "colab": {
      "provenance": [],
      "authorship_tag": "ABX9TyNkfHhll81DvCO5yD6sDZZk",
      "include_colab_link": true
    },
    "kernelspec": {
      "name": "python3",
      "display_name": "Python 3"
    },
    "language_info": {
      "name": "python"
    }
  },
  "cells": [
    {
      "cell_type": "markdown",
      "metadata": {
        "id": "view-in-github",
        "colab_type": "text"
      },
      "source": [
        "<a href=\"https://colab.research.google.com/github/SalwaMustafa/NLP-Krish-Naik-playlist/blob/main/Day_3.ipynb\" target=\"_parent\"><img src=\"https://colab.research.google.com/assets/colab-badge.svg\" alt=\"Open In Colab\"/></a>"
      ]
    },
    {
      "cell_type": "code",
      "execution_count": 1,
      "metadata": {
        "id": "kt-qIXtOw0i5"
      },
      "outputs": [],
      "source": [
        "paragraph = \"\"\"The giant panda (Ailuropoda melanoleuca), also known as the panda bear or simply panda, is a bear species endemic to China. It is characterised by its white coat with black patches around the eyes, ears, legs and shoulders. Its body is rotund; adult individuals weigh 100 to 115 kg (220 to 254 lb) and are typically 1.2 to 1.9 m (3 ft 11 in to 6 ft 3 in) long. It is sexually dimorphic, with males being typically 10 to 20% larger than females. A thumb is visible on its forepaw, which helps in holding bamboo in place for feeding. It has large molar teeth and expanded temporal fossa to meet its dietary requirements. It can digest starch and is mostly herbivorous with a diet consisting almost entirely of bamboo and bamboo shoots.\"\"\""
      ]
    },
    {
      "cell_type": "code",
      "source": [
        "import nltk\n",
        "from nltk.stem import PorterStemmer\n",
        "from nltk.corpus import stopwords\n",
        "from nltk.stem import WordNetLemmatizer\n",
        "import re\n",
        "nltk.download('wordnet')\n",
        "nltk.download('punkt_tab')\n",
        "nltk.download('stopwords')"
      ],
      "metadata": {
        "colab": {
          "base_uri": "https://localhost:8080/"
        },
        "id": "Ktn8MWGsyED-",
        "outputId": "cfd074ea-b2b2-4373-b153-2aa73c0d0b1f"
      },
      "execution_count": 4,
      "outputs": [
        {
          "output_type": "stream",
          "name": "stderr",
          "text": [
            "[nltk_data] Downloading package wordnet to /root/nltk_data...\n",
            "[nltk_data]   Package wordnet is already up-to-date!\n",
            "[nltk_data] Downloading package punkt_tab to /root/nltk_data...\n",
            "[nltk_data]   Package punkt_tab is already up-to-date!\n",
            "[nltk_data] Downloading package stopwords to /root/nltk_data...\n",
            "[nltk_data]   Package stopwords is already up-to-date!\n"
          ]
        },
        {
          "output_type": "execute_result",
          "data": {
            "text/plain": [
              "True"
            ]
          },
          "metadata": {},
          "execution_count": 4
        }
      ]
    },
    {
      "cell_type": "code",
      "source": [
        "sentences = nltk.sent_tokenize(paragraph)\n",
        "for i in range(len(sentences)):\n",
        "  print(sentences[i])\n",
        "  print()"
      ],
      "metadata": {
        "colab": {
          "base_uri": "https://localhost:8080/"
        },
        "id": "l9z-n8o2yg0i",
        "outputId": "26e8371b-42ba-470a-b997-a0b3834ac798"
      },
      "execution_count": 5,
      "outputs": [
        {
          "output_type": "stream",
          "name": "stdout",
          "text": [
            "The giant panda (Ailuropoda melanoleuca), also known as the panda bear or simply panda, is a bear species endemic to China.\n",
            "\n",
            "It is characterised by its white coat with black patches around the eyes, ears, legs and shoulders.\n",
            "\n",
            "Its body is rotund; adult individuals weigh 100 to 115 kg (220 to 254 lb) and are typically 1.2 to 1.9 m (3 ft 11 in to 6 ft 3 in) long.\n",
            "\n",
            "It is sexually dimorphic, with males being typically 10 to 20% larger than females.\n",
            "\n",
            "A thumb is visible on its forepaw, which helps in holding bamboo in place for feeding.\n",
            "\n",
            "It has large molar teeth and expanded temporal fossa to meet its dietary requirements.\n",
            "\n",
            "It can digest starch and is mostly herbivorous with a diet consisting almost entirely of bamboo and bamboo shoots.\n",
            "\n"
          ]
        }
      ]
    },
    {
      "cell_type": "code",
      "source": [
        "data = []\n",
        "lemmatizer = WordNetLemmatizer()\n",
        "for i in range(len(sentences)):\n",
        "  text =  re.sub('[^a-zA-Z]', ' ', sentences[i])\n",
        "  text = text.lower()\n",
        "  text = text.split()\n",
        "  text = [lemmatizer.lemmatize(word) for word in text if word not in set(stopwords.words('english'))]\n",
        "  text = ' '.join(text)\n",
        "  data.append(text)"
      ],
      "metadata": {
        "id": "Nj6MSf93yEHC"
      },
      "execution_count": 6,
      "outputs": []
    },
    {
      "cell_type": "code",
      "source": [
        "for i in range(len(data)):\n",
        "  print(data[i])\n",
        "  print()"
      ],
      "metadata": {
        "colab": {
          "base_uri": "https://localhost:8080/"
        },
        "id": "FDfjLRlV1Ch-",
        "outputId": "d677e733-ca9a-4fc6-a325-b6a87d9e08b8"
      },
      "execution_count": 7,
      "outputs": [
        {
          "output_type": "stream",
          "name": "stdout",
          "text": [
            "giant panda ailuropoda melanoleuca also known panda bear simply panda bear specie endemic china\n",
            "\n",
            "characterised white coat black patch around eye ear leg shoulder\n",
            "\n",
            "body rotund adult individual weigh kg lb typically ft ft long\n",
            "\n",
            "sexually dimorphic male typically larger female\n",
            "\n",
            "thumb visible forepaw help holding bamboo place feeding\n",
            "\n",
            "large molar teeth expanded temporal fossa meet dietary requirement\n",
            "\n",
            "digest starch mostly herbivorous diet consisting almost entirely bamboo bamboo shoot\n",
            "\n"
          ]
        }
      ]
    },
    {
      "cell_type": "code",
      "source": [
        "from sklearn.feature_extraction.text import TfidfVectorizer\n",
        "TFIDF = TfidfVectorizer()\n",
        "x = TFIDF.fit_transform(data)"
      ],
      "metadata": {
        "id": "uytqaKfFyEJ4"
      },
      "execution_count": 8,
      "outputs": []
    },
    {
      "cell_type": "code",
      "source": [
        "sorted(TFIDF.vocabulary_.items())"
      ],
      "metadata": {
        "colab": {
          "base_uri": "https://localhost:8080/"
        },
        "id": "1XlcALKT2pQg",
        "outputId": "eef020ba-5e7f-45aa-9522-4b8afd056afe"
      },
      "execution_count": 17,
      "outputs": [
        {
          "output_type": "execute_result",
          "data": {
            "text/plain": [
              "[('adult', 0),\n",
              " ('ailuropoda', 1),\n",
              " ('almost', 2),\n",
              " ('also', 3),\n",
              " ('around', 4),\n",
              " ('bamboo', 5),\n",
              " ('bear', 6),\n",
              " ('black', 7),\n",
              " ('body', 8),\n",
              " ('characterised', 9),\n",
              " ('china', 10),\n",
              " ('coat', 11),\n",
              " ('consisting', 12),\n",
              " ('diet', 13),\n",
              " ('dietary', 14),\n",
              " ('digest', 15),\n",
              " ('dimorphic', 16),\n",
              " ('ear', 17),\n",
              " ('endemic', 18),\n",
              " ('entirely', 19),\n",
              " ('expanded', 20),\n",
              " ('eye', 21),\n",
              " ('feeding', 22),\n",
              " ('female', 23),\n",
              " ('forepaw', 24),\n",
              " ('fossa', 25),\n",
              " ('ft', 26),\n",
              " ('giant', 27),\n",
              " ('help', 28),\n",
              " ('herbivorous', 29),\n",
              " ('holding', 30),\n",
              " ('individual', 31),\n",
              " ('kg', 32),\n",
              " ('known', 33),\n",
              " ('large', 34),\n",
              " ('larger', 35),\n",
              " ('lb', 36),\n",
              " ('leg', 37),\n",
              " ('long', 38),\n",
              " ('male', 39),\n",
              " ('meet', 40),\n",
              " ('melanoleuca', 41),\n",
              " ('molar', 42),\n",
              " ('mostly', 43),\n",
              " ('panda', 44),\n",
              " ('patch', 45),\n",
              " ('place', 46),\n",
              " ('requirement', 47),\n",
              " ('rotund', 48),\n",
              " ('sexually', 49),\n",
              " ('shoot', 50),\n",
              " ('shoulder', 51),\n",
              " ('simply', 52),\n",
              " ('specie', 53),\n",
              " ('starch', 54),\n",
              " ('teeth', 55),\n",
              " ('temporal', 56),\n",
              " ('thumb', 57),\n",
              " ('typically', 58),\n",
              " ('visible', 59),\n",
              " ('weigh', 60),\n",
              " ('white', 61)]"
            ]
          },
          "metadata": {},
          "execution_count": 17
        }
      ]
    },
    {
      "cell_type": "code",
      "source": [
        "x[0].toarray()"
      ],
      "metadata": {
        "colab": {
          "base_uri": "https://localhost:8080/"
        },
        "id": "zsXakcanyEMp",
        "outputId": "3656ffd3-1d7c-4465-fa27-362019860cb1"
      },
      "execution_count": 13,
      "outputs": [
        {
          "output_type": "execute_result",
          "data": {
            "text/plain": [
              "array([[0.        , 0.21320072, 0.        , 0.21320072, 0.        ,\n",
              "        0.        , 0.42640143, 0.        , 0.        , 0.        ,\n",
              "        0.21320072, 0.        , 0.        , 0.        , 0.        ,\n",
              "        0.        , 0.        , 0.        , 0.21320072, 0.        ,\n",
              "        0.        , 0.        , 0.        , 0.        , 0.        ,\n",
              "        0.        , 0.        , 0.21320072, 0.        , 0.        ,\n",
              "        0.        , 0.        , 0.        , 0.21320072, 0.        ,\n",
              "        0.        , 0.        , 0.        , 0.        , 0.        ,\n",
              "        0.        , 0.21320072, 0.        , 0.        , 0.63960215,\n",
              "        0.        , 0.        , 0.        , 0.        , 0.        ,\n",
              "        0.        , 0.        , 0.21320072, 0.21320072, 0.        ,\n",
              "        0.        , 0.        , 0.        , 0.        , 0.        ,\n",
              "        0.        , 0.        ]])"
            ]
          },
          "metadata": {},
          "execution_count": 13
        }
      ]
    },
    {
      "cell_type": "code",
      "source": [
        "TFIDF_2 = TfidfVectorizer(ngram_range=(1,1), max_features=10)\n",
        "x_2 = TFIDF_2.fit_transform(data)\n",
        "x_2[0].toarray()"
      ],
      "metadata": {
        "colab": {
          "base_uri": "https://localhost:8080/"
        },
        "id": "20QtEf2CyEQP",
        "outputId": "eb5ac171-4981-4606-a363-99775a1809d8"
      },
      "execution_count": 18,
      "outputs": [
        {
          "output_type": "execute_result",
          "data": {
            "text/plain": [
              "array([[0.        , 0.        , 0.26726124, 0.        , 0.53452248,\n",
              "        0.        , 0.        , 0.        , 0.80178373, 0.        ]])"
            ]
          },
          "metadata": {},
          "execution_count": 18
        }
      ]
    }
  ]
}