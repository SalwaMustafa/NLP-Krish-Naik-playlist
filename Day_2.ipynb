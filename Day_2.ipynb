{
  "nbformat": 4,
  "nbformat_minor": 0,
  "metadata": {
    "colab": {
      "provenance": [],
      "authorship_tag": "ABX9TyNxdNSKTSZn4Y4IwjfBHpq4",
      "include_colab_link": true
    },
    "kernelspec": {
      "name": "python3",
      "display_name": "Python 3"
    },
    "language_info": {
      "name": "python"
    }
  },
  "cells": [
    {
      "cell_type": "markdown",
      "metadata": {
        "id": "view-in-github",
        "colab_type": "text"
      },
      "source": [
        "<a href=\"https://colab.research.google.com/github/SalwaMustafa/NLP-Krish-Naik-playlist/blob/main/Day_2.ipynb\" target=\"_parent\"><img src=\"https://colab.research.google.com/assets/colab-badge.svg\" alt=\"Open In Colab\"/></a>"
      ]
    },
    {
      "cell_type": "code",
      "execution_count": 1,
      "metadata": {
        "colab": {
          "base_uri": "https://localhost:8080/"
        },
        "id": "a7mnUUrGnc4g",
        "outputId": "a43af072-1837-4907-f99f-0693974acb7e"
      },
      "outputs": [
        {
          "output_type": "stream",
          "name": "stdout",
          "text": [
            "Requirement already satisfied: nltk in /usr/local/lib/python3.11/dist-packages (3.9.1)\n",
            "Requirement already satisfied: click in /usr/local/lib/python3.11/dist-packages (from nltk) (8.2.1)\n",
            "Requirement already satisfied: joblib in /usr/local/lib/python3.11/dist-packages (from nltk) (1.5.1)\n",
            "Requirement already satisfied: regex>=2021.8.3 in /usr/local/lib/python3.11/dist-packages (from nltk) (2024.11.6)\n",
            "Requirement already satisfied: tqdm in /usr/local/lib/python3.11/dist-packages (from nltk) (4.67.1)\n"
          ]
        }
      ],
      "source": [
        "!pip install nltk"
      ]
    },
    {
      "cell_type": "code",
      "source": [
        "paragraph = \"\"\"The giant panda (Ailuropoda melanoleuca), also known as the panda bear or simply panda, is a bear species endemic to China. It is characterised by its white coat with black patches around the eyes, ears, legs and shoulders. Its body is rotund; adult individuals weigh 100 to 115 kg (220 to 254 lb) and are typically 1.2 to 1.9 m (3 ft 11 in to 6 ft 3 in) long. It is sexually dimorphic, with males being typically 10 to 20% larger than females. A thumb is visible on its forepaw, which helps in holding bamboo in place for feeding. It has large molar teeth and expanded temporal fossa to meet its dietary requirements. It can digest starch and is mostly herbivorous with a diet consisting almost entirely of bamboo and bamboo shoots.\"\"\""
      ],
      "metadata": {
        "id": "OD5NasienzcY"
      },
      "execution_count": 2,
      "outputs": []
    },
    {
      "cell_type": "code",
      "source": [
        "paragraph"
      ],
      "metadata": {
        "colab": {
          "base_uri": "https://localhost:8080/",
          "height": 105
        },
        "id": "0STCTAgNnze4",
        "outputId": "8dd53c1e-6266-438c-f030-822c76e19594"
      },
      "execution_count": 3,
      "outputs": [
        {
          "output_type": "execute_result",
          "data": {
            "text/plain": [
              "'The giant panda (Ailuropoda melanoleuca), also known as the panda bear or simply panda, is a bear species endemic to China. It is characterised by its white coat with black patches around the eyes, ears, legs and shoulders. Its body is rotund; adult individuals weigh 100 to 115 kg (220 to 254 lb) and are typically 1.2 to 1.9 m (3 ft 11 in to 6 ft 3 in) long. It is sexually dimorphic, with males being typically 10 to 20% larger than females. A thumb is visible on its forepaw, which helps in holding bamboo in place for feeding. It has large molar teeth and expanded temporal fossa to meet its dietary requirements. It can digest starch and is mostly herbivorous with a diet consisting almost entirely of bamboo and bamboo shoots.'"
            ],
            "application/vnd.google.colaboratory.intrinsic+json": {
              "type": "string"
            }
          },
          "metadata": {},
          "execution_count": 3
        }
      ]
    },
    {
      "cell_type": "code",
      "source": [
        "import nltk\n",
        "from nltk.stem import PorterStemmer\n",
        "from nltk.corpus import stopwords"
      ],
      "metadata": {
        "id": "Xj1Ba5jVnzhS"
      },
      "execution_count": 4,
      "outputs": []
    },
    {
      "cell_type": "markdown",
      "source": [
        "Convert paragraph into sentences (**Tokenization**)"
      ],
      "metadata": {
        "id": "jbT9DcbFx_7M"
      }
    },
    {
      "cell_type": "code",
      "source": [
        "nltk.download('punkt_tab')"
      ],
      "metadata": {
        "colab": {
          "base_uri": "https://localhost:8080/"
        },
        "id": "jg-v31d2nzk2",
        "outputId": "a41309f0-1bbe-41b4-8a8a-de57c9dcbc3b"
      },
      "execution_count": 5,
      "outputs": [
        {
          "output_type": "stream",
          "name": "stderr",
          "text": [
            "[nltk_data] Downloading package punkt_tab to /root/nltk_data...\n",
            "[nltk_data]   Unzipping tokenizers/punkt_tab.zip.\n"
          ]
        },
        {
          "output_type": "execute_result",
          "data": {
            "text/plain": [
              "True"
            ]
          },
          "metadata": {},
          "execution_count": 5
        }
      ]
    },
    {
      "cell_type": "code",
      "source": [
        "sentences = nltk.sent_tokenize(paragraph)\n",
        "sentences"
      ],
      "metadata": {
        "colab": {
          "base_uri": "https://localhost:8080/"
        },
        "id": "mf6h2yYqx7L6",
        "outputId": "43901d60-3b78-429b-b161-52529f12b376"
      },
      "execution_count": 6,
      "outputs": [
        {
          "output_type": "execute_result",
          "data": {
            "text/plain": [
              "['The giant panda (Ailuropoda melanoleuca), also known as the panda bear or simply panda, is a bear species endemic to China.',\n",
              " 'It is characterised by its white coat with black patches around the eyes, ears, legs and shoulders.',\n",
              " 'Its body is rotund; adult individuals weigh 100 to 115 kg (220 to 254 lb) and are typically 1.2 to 1.9 m (3 ft 11 in to 6 ft 3 in) long.',\n",
              " 'It is sexually dimorphic, with males being typically 10 to 20% larger than females.',\n",
              " 'A thumb is visible on its forepaw, which helps in holding bamboo in place for feeding.',\n",
              " 'It has large molar teeth and expanded temporal fossa to meet its dietary requirements.',\n",
              " 'It can digest starch and is mostly herbivorous with a diet consisting almost entirely of bamboo and bamboo shoots.']"
            ]
          },
          "metadata": {},
          "execution_count": 6
        }
      ]
    },
    {
      "cell_type": "markdown",
      "source": [
        "- **Apply Stemming**\n",
        "    - Try to find the base of a specific words (root word), the base word may have no meaning"
      ],
      "metadata": {
        "id": "KayUwzYRzpa6"
      }
    },
    {
      "cell_type": "code",
      "source": [
        "stemmer = PorterStemmer()"
      ],
      "metadata": {
        "id": "rLhgmH05x7UC"
      },
      "execution_count": 7,
      "outputs": []
    },
    {
      "cell_type": "code",
      "source": [
        "stemmer.stem(\"history\")"
      ],
      "metadata": {
        "colab": {
          "base_uri": "https://localhost:8080/",
          "height": 36
        },
        "id": "SSFUI98px7ag",
        "outputId": "7ce7d66a-4ad4-4f86-c6be-752dc01991af"
      },
      "execution_count": 8,
      "outputs": [
        {
          "output_type": "execute_result",
          "data": {
            "text/plain": [
              "'histori'"
            ],
            "application/vnd.google.colaboratory.intrinsic+json": {
              "type": "string"
            }
          },
          "metadata": {},
          "execution_count": 8
        }
      ]
    },
    {
      "cell_type": "markdown",
      "source": [
        "- **Lemmatization**\n",
        "    - try to find the base of a specific words but should have a meaning\n",
        "    "
      ],
      "metadata": {
        "id": "D2Mw4dro1Ppj"
      }
    },
    {
      "cell_type": "code",
      "source": [
        "from nltk.stem import WordNetLemmatizer\n",
        "nltk.download('wordnet')"
      ],
      "metadata": {
        "colab": {
          "base_uri": "https://localhost:8080/"
        },
        "id": "HWwLNsfWx7gO",
        "outputId": "5e231670-b3ff-4196-be52-9533beb2ac1e"
      },
      "execution_count": 9,
      "outputs": [
        {
          "output_type": "stream",
          "name": "stderr",
          "text": [
            "[nltk_data] Downloading package wordnet to /root/nltk_data...\n"
          ]
        },
        {
          "output_type": "execute_result",
          "data": {
            "text/plain": [
              "True"
            ]
          },
          "metadata": {},
          "execution_count": 9
        }
      ]
    },
    {
      "cell_type": "code",
      "source": [
        "lemmatizer = WordNetLemmatizer()"
      ],
      "metadata": {
        "id": "Tj1P3BGyx7mD"
      },
      "execution_count": 10,
      "outputs": []
    },
    {
      "cell_type": "code",
      "source": [
        "lemmatizer.lemmatize(\"history\")"
      ],
      "metadata": {
        "colab": {
          "base_uri": "https://localhost:8080/",
          "height": 36
        },
        "id": "jO9MFcgFx7tD",
        "outputId": "022d6f7e-da8c-4bdd-df74-95c080b36b8f"
      },
      "execution_count": 11,
      "outputs": [
        {
          "output_type": "execute_result",
          "data": {
            "text/plain": [
              "'history'"
            ],
            "application/vnd.google.colaboratory.intrinsic+json": {
              "type": "string"
            }
          },
          "metadata": {},
          "execution_count": 11
        }
      ]
    },
    {
      "cell_type": "code",
      "source": [
        "import re\n",
        "corpus = []\n",
        "for i in range(len(sentences)):\n",
        "  text =  re.sub('[^a-zA-Z]', ' ', sentences[i])\n",
        "  text = text.lower()\n",
        "  corpus.append(text)"
      ],
      "metadata": {
        "id": "TuqKb5wex7y4"
      },
      "execution_count": 15,
      "outputs": []
    },
    {
      "cell_type": "code",
      "source": [
        "corpus"
      ],
      "metadata": {
        "colab": {
          "base_uri": "https://localhost:8080/"
        },
        "id": "pb4gnDDU02Da",
        "outputId": "2628198e-7ded-426d-cc2b-8ce85d806d11"
      },
      "execution_count": 16,
      "outputs": [
        {
          "output_type": "execute_result",
          "data": {
            "text/plain": [
              "['the giant panda  ailuropoda melanoleuca   also known as the panda bear or simply panda  is a bear species endemic to china ',\n",
              " 'it is characterised by its white coat with black patches around the eyes  ears  legs and shoulders ',\n",
              " 'its body is rotund  adult individuals weigh     to     kg      to     lb  and are typically     to     m    ft    in to   ft   in  long ',\n",
              " 'it is sexually dimorphic  with males being typically    to     larger than females ',\n",
              " 'a thumb is visible on its forepaw  which helps in holding bamboo in place for feeding ',\n",
              " 'it has large molar teeth and expanded temporal fossa to meet its dietary requirements ',\n",
              " 'it can digest starch and is mostly herbivorous with a diet consisting almost entirely of bamboo and bamboo shoots ']"
            ]
          },
          "metadata": {},
          "execution_count": 16
        }
      ]
    },
    {
      "cell_type": "code",
      "source": [
        "nltk.download('stopwords')"
      ],
      "metadata": {
        "colab": {
          "base_uri": "https://localhost:8080/"
        },
        "id": "J9aHXZ87AriG",
        "outputId": "4a128476-8a14-4050-ab2f-cb0fd36e381d"
      },
      "execution_count": 19,
      "outputs": [
        {
          "output_type": "stream",
          "name": "stderr",
          "text": [
            "[nltk_data] Downloading package stopwords to /root/nltk_data...\n",
            "[nltk_data]   Unzipping corpora/stopwords.zip.\n"
          ]
        },
        {
          "output_type": "execute_result",
          "data": {
            "text/plain": [
              "True"
            ]
          },
          "metadata": {},
          "execution_count": 19
        }
      ]
    },
    {
      "cell_type": "code",
      "source": [
        "for i in corpus:\n",
        "  words = nltk.word_tokenize(i)\n",
        "  for word in words :\n",
        "    if word not in set(stopwords.words('english')):\n",
        "      print(stemmer.stem(word))\n",
        "\n",
        ""
      ],
      "metadata": {
        "colab": {
          "base_uri": "https://localhost:8080/"
        },
        "id": "iGj-xBsf02J_",
        "outputId": "24bb0beb-596a-4b21-9125-f53a6057bd2a"
      },
      "execution_count": 20,
      "outputs": [
        {
          "output_type": "stream",
          "name": "stdout",
          "text": [
            "giant\n",
            "panda\n",
            "ailuropoda\n",
            "melanoleuca\n",
            "also\n",
            "known\n",
            "panda\n",
            "bear\n",
            "simpli\n",
            "panda\n",
            "bear\n",
            "speci\n",
            "endem\n",
            "china\n",
            "characteris\n",
            "white\n",
            "coat\n",
            "black\n",
            "patch\n",
            "around\n",
            "eye\n",
            "ear\n",
            "leg\n",
            "shoulder\n",
            "bodi\n",
            "rotund\n",
            "adult\n",
            "individu\n",
            "weigh\n",
            "kg\n",
            "lb\n",
            "typic\n",
            "ft\n",
            "ft\n",
            "long\n",
            "sexual\n",
            "dimorph\n",
            "male\n",
            "typic\n",
            "larger\n",
            "femal\n",
            "thumb\n",
            "visibl\n",
            "forepaw\n",
            "help\n",
            "hold\n",
            "bamboo\n",
            "place\n",
            "feed\n",
            "larg\n",
            "molar\n",
            "teeth\n",
            "expand\n",
            "tempor\n",
            "fossa\n",
            "meet\n",
            "dietari\n",
            "requir\n",
            "digest\n",
            "starch\n",
            "mostli\n",
            "herbivor\n",
            "diet\n",
            "consist\n",
            "almost\n",
            "entir\n",
            "bamboo\n",
            "bamboo\n",
            "shoot\n"
          ]
        }
      ]
    },
    {
      "cell_type": "code",
      "source": [
        "data = []\n",
        "for i in range(len(sentences)):\n",
        "  text =  re.sub('[^a-zA-Z]', ' ', sentences[i])\n",
        "  text = text.lower()\n",
        "  text = text.split()\n",
        "  text = [lemmatizer.lemmatize(word) for word in text if word not in set(stopwords.words('english'))]\n",
        "  text = ' '.join(text)\n",
        "  data.append(text)"
      ],
      "metadata": {
        "id": "23NKJOQCFjsI"
      },
      "execution_count": 25,
      "outputs": []
    },
    {
      "cell_type": "code",
      "source": [
        "from sklearn.feature_extraction.text import CountVectorizer\n",
        "cv = CountVectorizer()  # Bag Of Words"
      ],
      "metadata": {
        "id": "anWI0qTA02Ph"
      },
      "execution_count": 26,
      "outputs": []
    },
    {
      "cell_type": "code",
      "source": [
        "X = cv.fit_transform(data)"
      ],
      "metadata": {
        "id": "_cdYlN7lCQva"
      },
      "execution_count": 27,
      "outputs": []
    },
    {
      "cell_type": "code",
      "source": [
        "cv.vocabulary_"
      ],
      "metadata": {
        "colab": {
          "base_uri": "https://localhost:8080/"
        },
        "id": "UwUf5hoDCQ2o",
        "outputId": "d9858fed-f438-442f-cb19-0682c8a383aa"
      },
      "execution_count": 28,
      "outputs": [
        {
          "output_type": "execute_result",
          "data": {
            "text/plain": [
              "{'giant': 27,\n",
              " 'panda': 44,\n",
              " 'ailuropoda': 1,\n",
              " 'melanoleuca': 41,\n",
              " 'also': 3,\n",
              " 'known': 33,\n",
              " 'bear': 6,\n",
              " 'simply': 52,\n",
              " 'specie': 53,\n",
              " 'endemic': 18,\n",
              " 'china': 10,\n",
              " 'characterised': 9,\n",
              " 'white': 61,\n",
              " 'coat': 11,\n",
              " 'black': 7,\n",
              " 'patch': 45,\n",
              " 'around': 4,\n",
              " 'eye': 21,\n",
              " 'ear': 17,\n",
              " 'leg': 37,\n",
              " 'shoulder': 51,\n",
              " 'body': 8,\n",
              " 'rotund': 48,\n",
              " 'adult': 0,\n",
              " 'individual': 31,\n",
              " 'weigh': 60,\n",
              " 'kg': 32,\n",
              " 'lb': 36,\n",
              " 'typically': 58,\n",
              " 'ft': 26,\n",
              " 'long': 38,\n",
              " 'sexually': 49,\n",
              " 'dimorphic': 16,\n",
              " 'male': 39,\n",
              " 'larger': 35,\n",
              " 'female': 23,\n",
              " 'thumb': 57,\n",
              " 'visible': 59,\n",
              " 'forepaw': 24,\n",
              " 'help': 28,\n",
              " 'holding': 30,\n",
              " 'bamboo': 5,\n",
              " 'place': 46,\n",
              " 'feeding': 22,\n",
              " 'large': 34,\n",
              " 'molar': 42,\n",
              " 'teeth': 55,\n",
              " 'expanded': 20,\n",
              " 'temporal': 56,\n",
              " 'fossa': 25,\n",
              " 'meet': 40,\n",
              " 'dietary': 14,\n",
              " 'requirement': 47,\n",
              " 'digest': 15,\n",
              " 'starch': 54,\n",
              " 'mostly': 43,\n",
              " 'herbivorous': 29,\n",
              " 'diet': 13,\n",
              " 'consisting': 12,\n",
              " 'almost': 2,\n",
              " 'entirely': 19,\n",
              " 'shoot': 50}"
            ]
          },
          "metadata": {},
          "execution_count": 28
        }
      ]
    }
  ]
}